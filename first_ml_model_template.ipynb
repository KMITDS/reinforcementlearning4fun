{
  "nbformat": 4,
  "nbformat_minor": 0,
  "metadata": {
    "colab": {
      "name": "first_ml_model_template",
      "provenance": [],
      "collapsed_sections": [],
      "include_colab_link": true
    },
    "kernelspec": {
      "name": "python3",
      "display_name": "Python 3"
    }
  },
  "cells": [
    {
      "cell_type": "markdown",
      "metadata": {
        "id": "view-in-github",
        "colab_type": "text"
      },
      "source": [
        "<a href=\"https://colab.research.google.com/github/rodmsmendes/reinforcementlearning4fun/blob/master/first_ml_model_template.ipynb\" target=\"_parent\"><img src=\"https://colab.research.google.com/assets/colab-badge.svg\" alt=\"Open In Colab\"/></a>"
      ]
    },
    {
      "cell_type": "markdown",
      "metadata": {
        "id": "1yE1ar-m5yEv",
        "colab_type": "text"
      },
      "source": [
        "# My First Machine Learning Model\n",
        "\n",
        "This template will help you create your fist machine learning model in 5 minutes.\n"
      ]
    },
    {
      "cell_type": "markdown",
      "metadata": {
        "id": "cOX1HBNA6BwG",
        "colab_type": "text"
      },
      "source": [
        "## 0. Setup\n",
        "\n",
        "We provide the initial setup of the notebook. In this section we import the necessary libraries so you can build your model."
      ]
    },
    {
      "cell_type": "code",
      "metadata": {
        "id": "dcQjdg4D5qwc",
        "colab_type": "code",
        "colab": {}
      },
      "source": [
        "import numpy as np\n",
        "import pandas as pd\n",
        "from matplotlib import pyplot as plt"
      ],
      "execution_count": 0,
      "outputs": []
    },
    {
      "cell_type": "markdown",
      "metadata": {
        "id": "rBKm1n0h6mWx",
        "colab_type": "text"
      },
      "source": [
        "## 1. Load the data\n",
        "\n",
        "The first step is to load the necessary data. Use the command read_csv from pandas library to load the Iris dataset. After loading the data into a dataframe, show the top of the dataset. The dataset file URL is https://archive.ics.uci.edu/ml/machine-learning-databases/iris/iris.data."
      ]
    },
    {
      "cell_type": "code",
      "metadata": {
        "id": "WyzD2uVb7sIz",
        "colab_type": "code",
        "colab": {}
      },
      "source": [
        "# load the data"
      ],
      "execution_count": 0,
      "outputs": []
    },
    {
      "cell_type": "markdown",
      "metadata": {
        "id": "NLnaUlxT7_Ej",
        "colab_type": "text"
      },
      "source": [
        "## 2. Explore and visualize the data\n",
        "\n"
      ]
    },
    {
      "cell_type": "markdown",
      "metadata": {
        "id": "8J8fQqSx8OLb",
        "colab_type": "text"
      },
      "source": [
        "## 3. Preprocess the data"
      ]
    },
    {
      "cell_type": "markdown",
      "metadata": {
        "id": "jBcrUXkM90AK",
        "colab_type": "text"
      },
      "source": [
        "## 4. Select an algorithm and train the model"
      ]
    },
    {
      "cell_type": "markdown",
      "metadata": {
        "id": "g0iW_fSG979T",
        "colab_type": "text"
      },
      "source": [
        "## 5. Save the model for later use"
      ]
    },
    {
      "cell_type": "code",
      "metadata": {
        "id": "Oj_xDT5g8QXI",
        "colab_type": "code",
        "colab": {}
      },
      "source": [
        ""
      ],
      "execution_count": 0,
      "outputs": []
    }
  ]
}